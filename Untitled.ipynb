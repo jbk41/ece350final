{
 "cells": [
  {
   "cell_type": "code",
   "execution_count": 1,
   "metadata": {
    "collapsed": true
   },
   "outputs": [],
   "source": [
    "bits = '0100010101010001010'\n",
    "m = \n",
    "parity = {1, 2, 4, 8, 16}"
   ]
  },
  {
   "cell_type": "code",
   "execution_count": 57,
   "metadata": {
    "collapsed": true
   },
   "outputs": [],
   "source": [
    "# k parity ; m range\n",
    "# 2 ; 1\n",
    "# 3 ; 2:4\n",
    "# 4; 5:11\n",
    "# 5; 12:27\n",
    "def num_parity(m):\n",
    "    if m == 1:\n",
    "        return 2\n",
    "    elif 2 <= m <= 4:\n",
    "        return 3\n",
    "    elif 5 <= m <= 11:\n",
    "        return 4\n",
    "    elif 12 <= m <= 27:\n",
    "        return 5\n",
    "    else:\n",
    "        return -1"
   ]
  },
  {
   "cell_type": "code",
   "execution_count": 58,
   "metadata": {
    "collapsed": true
   },
   "outputs": [],
   "source": [
    "p1 = '10101010101010101010101010101010'\n",
    "p2 = '01100110011001100110011001100110'\n",
    "p3 = '00011110000111100001111000011110'\n",
    "p4 = '00000001111111100000000111111110'\n",
    "p5 = '00000000000000011111111111111110' \n",
    "\n",
    "p1_int = int(p1, 2)\n",
    "p2_int = int(p2, 2)\n",
    "p3_int = int(p3, 2)\n",
    "p4_int = int(p4, 2)\n",
    "p5_int = int(p5, 2)"
   ]
  },
  {
   "cell_type": "code",
   "execution_count": 59,
   "metadata": {},
   "outputs": [],
   "source": [
    "# shifting\n",
    "       #'00000000000000011111111111111110'\n",
    "message = '010101010101'\n",
    "m = 12\n",
    "message = bin(int(message,2) << (32-12))\n",
    "and_1   = '10000000000000000000000000000000'\n",
    "and_2   = '01110000000000000000000000000000'\n",
    "and_3   = '00001111111000000000000000000000'\n",
    "and_4   = '00000000000111111111111111111111'\n",
    "\n",
    "shift_1 = (int(and_1,2) & int(message,2)) >> 2\n",
    "shift_2 = (int(and_2,2) & int(message,2)) >> 3\n",
    "shift_3 = (int(and_3,2) & int(message,2)) >> 4\n",
    "shift_4 = (int(and_4,2) & int(message,2)) >> 5\n",
    "\n"
   ]
  },
  {
   "cell_type": "code",
   "execution_count": 60,
   "metadata": {},
   "outputs": [
    {
     "name": "stdout",
     "output_type": "stream",
     "text": [
      "01010101010100000000000000000000\n"
     ]
    }
   ],
   "source": [
    "print(message.replace(\"0b\",\"\").zfill(32))\n"
   ]
  },
  {
   "cell_type": "code",
   "execution_count": 61,
   "metadata": {},
   "outputs": [
    {
     "name": "stdout",
     "output_type": "stream",
     "text": [
      "00000000000000000000000000000000\n",
      "00001010000000000000000000000000\n",
      "00000000010101000000000000000000\n",
      "00000000000000001000000000000000\n"
     ]
    }
   ],
   "source": [
    "print(bin(shift_1).replace(\"0b\",\"\").zfill(32))\n",
    "print(bin(shift_2).replace(\"0b\",\"\").zfill(32))\n",
    "print(bin(shift_3).replace(\"0b\",\"\").zfill(32))\n",
    "print(bin(shift_4).replace(\"0b\",\"\").zfill(32))\n",
    "\n",
    "message_with_parity = shift_1 | shift_2 | shift_3 | shift_4"
   ]
  },
  {
   "cell_type": "code",
   "execution_count": 62,
   "metadata": {},
   "outputs": [
    {
     "name": "stdout",
     "output_type": "stream",
     "text": [
      "00001010010101001000000000000000\n"
     ]
    }
   ],
   "source": [
    "print(bin(message_with_parity).replace(\"0b\",\"\").zfill(32))\n"
   ]
  },
  {
   "cell_type": "code",
   "execution_count": 63,
   "metadata": {
    "collapsed": true
   },
   "outputs": [],
   "source": [
    "def isParity(b):\n",
    "    count = 0 \n",
    "    for c in b:\n",
    "        if c == '1':\n",
    "            count += 1\n",
    "    return count % 2 == 1\n"
   ]
  },
  {
   "cell_type": "code",
   "execution_count": 64,
   "metadata": {
    "collapsed": true
   },
   "outputs": [],
   "source": [
    "parity_1_value = 2**31\n",
    "parity_2_value = 2**30\n",
    "parity_3_value = 2**28\n",
    "parity_4_value = 2**24\n",
    "parity_5_value = 2**16"
   ]
  },
  {
   "cell_type": "code",
   "execution_count": 65,
   "metadata": {},
   "outputs": [
    {
     "name": "stdout",
     "output_type": "stream",
     "text": [
      "a\n",
      "00001010000000001000000000000000\n",
      "yes\n",
      "b\n",
      "00000010010001000000000000000000\n",
      "yes\n",
      "c\n",
      "00001010000101000000000000000000\n",
      "no\n",
      "d\n",
      "00000000010101000000000000000000\n",
      "yes\n",
      "e\n",
      "00000000000000001000000000000000\n",
      "yes\n"
     ]
    }
   ],
   "source": [
    "k = num_parity(m)\n",
    "if k >=1:\n",
    "    print(\"a\")\n",
    "    print(bin(message_with_parity & p1_int).replace(\"0b\",\"\").zfill(32))\n",
    "    if isParity(bin(message_with_parity & p1_int).replace(\"0b\",\"\").zfill(32)):\n",
    "        message_with_parity = message_with_parity | parity_1_value\n",
    "        \n",
    "        print(\"yes\")\n",
    "    else:\n",
    "        print(\"no\")\n",
    "if k >= 2:\n",
    "    print(\"b\")\n",
    "    print(bin(message_with_parity & p2_int).replace(\"0b\",\"\").zfill(32))\n",
    "    if isParity(bin(message_with_parity & p2_int).replace(\"0b\",\"\").zfill(32)):\n",
    "        message_with_parity = message_with_parity | parity_2_value\n",
    "        print(\"yes\")\n",
    "    else:\n",
    "        print(\"no\")\n",
    "if k >= 3:\n",
    "    print(\"c\")\n",
    "    print(bin(message_with_parity & p3_int).replace(\"0b\",\"\").zfill(32))\n",
    "    if isParity(bin(message_with_parity & p3_int).replace(\"0b\",\"\").zfill(32)):\n",
    "        message_with_parity = message_with_parity | parity_3_value\n",
    "        print(\"yes\")\n",
    "    else:\n",
    "        print(\"no\")\n",
    "if k >= 4:\n",
    "    print(\"d\")\n",
    "    print(bin(message_with_parity & p4_int).replace(\"0b\",\"\").zfill(32))\n",
    "    if isParity(bin(message_with_parity & p4_int).replace(\"0b\",\"\").zfill(32)):\n",
    "        message_with_parity = message_with_parity | parity_4_value\n",
    "        print(\"yes\")\n",
    "    else:\n",
    "        print(\"no\")\n",
    "\n",
    "if k >= 5:\n",
    "    print(\"e\")\n",
    "    print(bin(message_with_parity & p5_int).replace(\"0b\",\"\").zfill(32))\n",
    "    if isParity(bin(message_with_parity & p5_int).replace(\"0b\",\"\").zfill(32)):\n",
    "        message_with_parity = message_with_parity | parity_5_value\n",
    "        print(\"yes\")\n",
    "    else:\n",
    "        print(\"no\")"
   ]
  },
  {
   "cell_type": "code",
   "execution_count": null,
   "metadata": {
    "collapsed": true
   },
   "outputs": [],
   "source": []
  },
  {
   "cell_type": "code",
   "execution_count": 66,
   "metadata": {},
   "outputs": [
    {
     "name": "stdout",
     "output_type": "stream",
     "text": [
      "00000000000000011001011010101011\n"
     ]
    }
   ],
   "source": [
    "print(bin(message_with_parity >> 32 - 17).replace(\"0b\",\"\").zfill(32))\n"
   ]
  },
  {
   "cell_type": "code",
   "execution_count": null,
   "metadata": {
    "collapsed": true
   },
   "outputs": [],
   "source": []
  },
  {
   "cell_type": "code",
   "execution_count": null,
   "metadata": {
    "collapsed": true
   },
   "outputs": [],
   "source": []
  }
 ],
 "metadata": {
  "kernelspec": {
   "display_name": "Python 3",
   "language": "python",
   "name": "python3"
  },
  "language_info": {
   "codemirror_mode": {
    "name": "ipython",
    "version": 3
   },
   "file_extension": ".py",
   "mimetype": "text/x-python",
   "name": "python",
   "nbconvert_exporter": "python",
   "pygments_lexer": "ipython3",
   "version": "3.6.3"
  }
 },
 "nbformat": 4,
 "nbformat_minor": 2
}
